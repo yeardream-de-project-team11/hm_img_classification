{
 "cells": [
  {
   "cell_type": "code",
   "execution_count": null,
   "metadata": {},
   "outputs": [],
   "source": [
    "import numpy as np\n",
    "import pandas as pd\n",
    "import matplotlib.pyplot as plt\n",
    "import pickle\n",
    "import os\n",
    "import glob\n",
    "import shutil\n",
    "import tensorflow as tf\n",
    "\n",
    "\n",
    "from tensorflow.keras.preprocessing import image\n",
    "from tensorflow.keras.applications.inception_resnet_v2 import InceptionResNetV2, preprocess_input\n",
    "\n",
    "IMAGE_SIZE    = (224, 224)"
   ]
  },
  {
   "cell_type": "code",
   "execution_count": null,
   "metadata": {},
   "outputs": [],
   "source": [
    "new_model = tf.keras.models.load_model('saved_model/')\n"
   ]
  },
  {
   "cell_type": "code",
   "execution_count": null,
   "metadata": {},
   "outputs": [],
   "source": [
    "with open('saved_model/class_indices.pkl', 'rb') as f:\n",
    "    class_indices = pickle.load(f)\n",
    "\n",
    "# 인덱스를 레이블로 변환\n",
    "# class_indices 딕셔너리의 키와 값의 자리를 바꿔주는 과정\n",
    "class_indices = {v: k for k, v in class_indices.items()}"
   ]
  },
  {
   "cell_type": "code",
   "execution_count": null,
   "metadata": {},
   "outputs": [],
   "source": [
    "# new_model.summary()"
   ]
  },
  {
   "cell_type": "code",
   "execution_count": null,
   "metadata": {},
   "outputs": [],
   "source": [
    "# # 모델로 예측 수행\n",
    "# IMAGE_SIZE    = (224, 224)\n",
    "\n",
    "\n",
    "# test_image = image.load_img('imagedata/garment-lower-body/0709902001.jpg'\n",
    "#                             ,target_size =IMAGE_SIZE )\n",
    "# test_image = image.img_to_array(test_image)\n",
    "# #plt.imshow(test_image/255.);\n",
    "\n",
    "# test_image = test_image.reshape((1, test_image.shape[0], test_image.shape[1], test_image.shape[2]))\n",
    "# test_image = preprocess_input(test_image)\n",
    "# predictions = new_model.predict(test_image)\n",
    "\n",
    "\n",
    "# # 가장 높은 확률을 가진 클래스 인덱스 찾기\n",
    "# predicted_class_index = np.argmax(predictions)\n",
    "\n",
    "\n",
    "# # 예측된 클래스 레이블\n",
    "# predicted_class_label = class_indices[predicted_class_index]\n",
    "# print(predicted_class_label)"
   ]
  },
  {
   "cell_type": "code",
   "execution_count": null,
   "metadata": {},
   "outputs": [],
   "source": [
    "# # 예측할 이미지 파일들의 리스트\n",
    "# image_files = ['imagedata/garment-lower-body/0732842022.jpg',\n",
    "#                'imagedata/garment-upper-body/0715226001.jpg',\n",
    "#                'imagedata/shoes/0738729002.jpg',\n",
    "#                # 다른 이미지 파일들...\n",
    "#                ]\n",
    "\n",
    "# # 각 이미지에 대해 예측 수행\n",
    "# for image_file in image_files:\n",
    "#     test_image = image.load_img(image_file, target_size=IMAGE_SIZE)\n",
    "#     test_image = image.img_to_array(test_image)\n",
    "#     test_image = test_image.reshape((1, test_image.shape[0], test_image.shape[1], test_image.shape[2]))\n",
    "#     test_image = preprocess_input(test_image)\n",
    "    \n",
    "#     predictions = new_model.predict(test_image)\n",
    "\n",
    "#     # 가장 높은 확률을 가진 클래스 인덱스 찾기\n",
    "#     predicted_class_index = np.argmax(predictions)\n",
    "\n",
    "#     # 예측된 클래스 레이블\n",
    "#     predicted_class_label = class_indices[predicted_class_index]\n",
    "    \n",
    "#     # 결과 출력\n",
    "#     print(f'Image: {image_file} - Predicted class: {predicted_class_label}')\n"
   ]
  },
  {
   "cell_type": "code",
   "execution_count": null,
   "metadata": {},
   "outputs": [],
   "source": [
    "# # 폴더 경로\n",
    "# folder_path = 'imagedata/'  # 여기에 실제 폴더 경로를 입력해주세요.\n",
    "\n",
    "# # .jpg 파일들의 경로 불러오기\n",
    "# jpg_files = glob.glob(os.path.join(folder_path, '**/*.jpg'), recursive=True)\n",
    "\n",
    "\n",
    "# # 결과 출력\n",
    "# for jpg_file in jpg_files:\n",
    "#     #print(jpg_file)\n",
    "\n",
    "#     #print(os.path.basename(jpg_file))\n",
    "\n",
    "#     base_name = os.path.basename(jpg_file)\n",
    "#     file_name_without_extension = os.path.splitext(base_name)[0]\n",
    "#     print(file_name_without_extension)"
   ]
  },
  {
   "cell_type": "code",
   "execution_count": null,
   "metadata": {},
   "outputs": [],
   "source": [
    "# 폴더 경로\n",
    "folder_path = 'imagedata/'  # 여기에 실제 폴더 경로를 입력해주세요.\n",
    "\n",
    "# .jpg 파일들의 경로 불러오기\n",
    "image_files = glob.glob(os.path.join(folder_path, '**/*.jpg'), recursive=True)\n",
    "\n",
    "\n",
    "\n",
    "# 각 이미지에 대해 예측 수행\n",
    "for image_file in image_files:\n",
    "    test_image = image.load_img(image_file, target_size=IMAGE_SIZE)\n",
    "    test_image = image.img_to_array(test_image)\n",
    "    test_image = test_image.reshape((1, test_image.shape[0], test_image.shape[1], test_image.shape[2]))\n",
    "    test_image = preprocess_input(test_image)\n",
    "    \n",
    "    predictions = new_model.predict(test_image)\n",
    "\n",
    "    # 가장 높은 확률을 가진 클래스 인덱스 찾기\n",
    "    predicted_class_index = np.argmax(predictions)\n",
    "\n",
    "    # 예측된 클래스 레이블\n",
    "    predicted_class_label = class_indices[predicted_class_index]\n",
    "    \n",
    "    # 결과 출력\n",
    "    #print(f'Image: {image_file} - Predicted class: {predicted_class_label}')\n",
    "\n",
    "    base_name = os.path.basename(image_file)\n",
    "    image_name = os.path.splitext(base_name)[0]\n",
    "    #print(image_name)\n",
    "\n",
    "    id_slice = image_name[:3]\n",
    "    # 이미지 그룹 이름으로 폴더 생성 (이미 존재하지 않는 경우에만)\n",
    "    if not os.path.exists(f'part_images/{id_slice}/{predicted_class_label}'):\n",
    "        os.makedirs(f'part_images/{id_slice}/{predicted_class_label}')\n",
    "\n",
    "    # 이미지 원본 경로\n",
    "    source_path = image_file\n",
    "\n",
    "    # 이미지 목적지 경로\n",
    "    destination_path = f'part_images/{id_slice}/{predicted_class_label}/{image_name}.jpg'\n",
    "\n",
    "    # 이미지 파일 이동\n",
    "    shutil.move(source_path, destination_path)\n"
   ]
  }
 ],
 "metadata": {
  "kernelspec": {
   "display_name": "yeardream",
   "language": "python",
   "name": "python3"
  },
  "language_info": {
   "codemirror_mode": {
    "name": "ipython",
    "version": 3
   },
   "file_extension": ".py",
   "mimetype": "text/x-python",
   "name": "python",
   "nbconvert_exporter": "python",
   "pygments_lexer": "ipython3",
   "version": "3.9.7"
  }
 },
 "nbformat": 4,
 "nbformat_minor": 2
}
