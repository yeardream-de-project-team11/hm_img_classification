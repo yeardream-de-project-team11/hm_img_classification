{
 "cells": [
  {
   "cell_type": "code",
   "execution_count": null,
   "metadata": {},
   "outputs": [],
   "source": [
    "import os\n",
    "import shutil\n",
    "import pandas as pd\n",
    "import re"
   ]
  },
  {
   "cell_type": "code",
   "execution_count": null,
   "metadata": {},
   "outputs": [],
   "source": [
    "def preprocess_label(label):\n",
    "    \n",
    "    # 대체 문자 처리\n",
    "    label = label.replace(' & ', '-')\n",
    "\n",
    "    label = label.replace(' ', '-')\n",
    "\n",
    "    label = label.replace('/', '-')\n",
    "\n",
    "    # 소문자 변환\n",
    "    label = label.lower()\n",
    "    # 특수 문자 제거\n",
    "    label = re.sub(r'[^a-zA-Z0-9-]', '', label)\n",
    "\n",
    "    return label"
   ]
  },
  {
   "cell_type": "code",
   "execution_count": null,
   "metadata": {},
   "outputs": [],
   "source": [
    "df = pd.read_csv('articles.csv')\n",
    "#print(df.columns)\n",
    "#print(df['product_group_name'].unique())\n",
    "\n",
    "#파일명으로 저장하기 적합하게 카테고리명 전처리\n",
    "df['product_group_name'] = df['product_group_name'].apply(preprocess_label)\n",
    "#print(df['product_group_name'].unique())"
   ]
  },
  {
   "cell_type": "code",
   "execution_count": null,
   "metadata": {},
   "outputs": [],
   "source": [
    "\n",
    "\n",
    "\n",
    "# 이미지 그룹별로 이미지 저장하기\n",
    "no_img =  0\n",
    "for index, row in df.iterrows():\n",
    "    try:\n",
    "        image_group = row['product_group_name']\n",
    "        image_name = str(row['article_id']).zfill(10)  # 'article_id'를 문자열로 처리\n",
    "        img_slice = image_name[:3]\n",
    "\n",
    "        \n",
    "        # 이미지 그룹 이름으로 폴더 생성 (이미 존재하지 않는 경우에만)\n",
    "        if not os.path.exists(f'imagedata/{image_group}'):\n",
    "            os.makedirs(f'imagedata/{image_group}')\n",
    "\n",
    "        # 이미지 원본 경로\n",
    "        source_path = f'images/{img_slice}/{image_name}.jpg'\n",
    "\n",
    "        # 이미지 목적지 경로\n",
    "        destination_path = f'imagedata/{image_group}/{image_name}.jpg'\n",
    "\n",
    "        # 이미지 파일 이동\n",
    "        shutil.move(source_path, destination_path)\n",
    "    except:\n",
    "        #print(image_name)\n",
    "        no_img += 1\n",
    "\n",
    "print('end')\n",
    "print(f'no img = {no_img}')"
   ]
  }
 ],
 "metadata": {
  "kernelspec": {
   "display_name": "yeardream",
   "language": "python",
   "name": "python3"
  },
  "language_info": {
   "codemirror_mode": {
    "name": "ipython",
    "version": 3
   },
   "file_extension": ".py",
   "mimetype": "text/x-python",
   "name": "python",
   "nbconvert_exporter": "python",
   "pygments_lexer": "ipython3",
   "version": "3.9.7"
  }
 },
 "nbformat": 4,
 "nbformat_minor": 2
}
